{
 "cells": [
  {
   "cell_type": "markdown",
   "id": "opposed-serum",
   "metadata": {},
   "source": [
    "If you have nvidia gpu and cuda installed install torch like this for speed and happiness:\n",
    "\n",
    "https://pytorch.org/get-started/locally/\n",
    "\n",
    "\n",
    "Else if you have only cpu you can just install pytorch like this:\n",
    "\n",
    "`pip install torch`"
   ]
  },
  {
   "cell_type": "code",
   "execution_count": 1,
   "id": "blind-bidder",
   "metadata": {},
   "outputs": [],
   "source": [
    "import torch\n",
    "import torch.nn as nn\n",
    "import torch.nn.functional as F\n",
    "import numpy as np\n",
    "from torchsummary import summary\n",
    "\n",
    "import pandas as pd\n",
    "from torch.utils.data import Dataset\n",
    "\n",
    "#enable gpu if possible\n",
    "if torch.cuda.is_available():  \n",
    "  dev = \"cuda:0\" \n",
    "else:  \n",
    "  dev = \"cpu\"  \n",
    "device = torch.device(dev)"
   ]
  },
  {
   "cell_type": "code",
   "execution_count": 256,
   "id": "valuable-alabama",
   "metadata": {
    "scrolled": false
   },
   "outputs": [],
   "source": [
    "class CustomDataset(Dataset):\n",
    "    def __init__(self, x, y):\n",
    "        self.x = x\n",
    "        self.y = y\n",
    "    \n",
    "    def __len__(self):\n",
    "        return len(self.x)\n",
    "    \n",
    "    def __getitem__(self, idx):\n",
    "        return self.x[idx].expand(1,-1), self.y[idx].expand(1)\n",
    "\n",
    "\n",
    "data = pd.read_csv('datasets/subject2_chest_1st100k.csv')\n",
    "data = data['Chest_ECG'].to_numpy()\n",
    "\n",
    "window_length = 100\n",
    "x = []\n",
    "y = []\n",
    "\n",
    "for i in range(len(data)-window_length):\n",
    "    x.append(data[i:i+window_length])\n",
    "    y.append(data[i+window_length])\n",
    "\n",
    "x, y = np.array(x), np.array(y)\n",
    "train_size = int(0.8*len(x))\n",
    "\n",
    "train_set = CustomDataset(torch.tensor(x[:train_size], dtype=torch.float), torch.tensor(y[:train_size], dtype=torch.float))\n",
    "test_set = CustomDataset(torch.tensor(x[train_size:], dtype=torch.float), torch.tensor(y[train_size:], dtype=torch.float))\n",
    "\n",
    "train_loader = torch.utils.data.DataLoader(train_set, batch_size=100, shuffle=True)\n",
    "test_loader = torch.utils.data.DataLoader(test_set, batch_size=100, shuffle=False)"
   ]
  },
  {
   "cell_type": "code",
   "execution_count": 274,
   "id": "employed-cambridge",
   "metadata": {},
   "outputs": [
    {
     "name": "stdout",
     "output_type": "stream",
     "text": [
      "Net(\n",
      "  (conv1): Conv1d(1, 32, kernel_size=(3,), stride=(1,))\n",
      "  (conv2): Conv1d(32, 64, kernel_size=(3,), stride=(1,))\n",
      "  (dropout1): Dropout(p=0.25, inplace=False)\n",
      "  (dropout2): Dropout(p=0.5, inplace=False)\n",
      "  (fc1): Linear(in_features=3072, out_features=1, bias=True)\n",
      ")\n",
      "----------------------------------------------------------------\n",
      "        Layer (type)               Output Shape         Param #\n",
      "================================================================\n",
      "            Conv1d-1               [-1, 32, 98]             128\n",
      "            Conv1d-2               [-1, 64, 96]           6,208\n",
      "           Dropout-3               [-1, 64, 48]               0\n",
      "            Linear-4                    [-1, 1]           3,073\n",
      "================================================================\n",
      "Total params: 9,409\n",
      "Trainable params: 9,409\n",
      "Non-trainable params: 0\n",
      "----------------------------------------------------------------\n",
      "Input size (MB): 0.00\n",
      "Forward/backward pass size (MB): 0.09\n",
      "Params size (MB): 0.04\n",
      "Estimated Total Size (MB): 0.13\n",
      "----------------------------------------------------------------\n"
     ]
    }
   ],
   "source": [
    "class Net(nn.Module):\n",
    "    def __init__(self):\n",
    "      super(Net, self).__init__()\n",
    "      self.conv1 = nn.Conv1d(1, 32, 3, 1)\n",
    "      self.conv2 = nn.Conv1d(32, 64, 3, 1)\n",
    "      self.dropout1 = nn.Dropout(0.25)\n",
    "      self.dropout2 = nn.Dropout(0.5)\n",
    "      self.fc1 = nn.Linear(3072, 1)\n",
    "#       self.fc2 = nn.Linear(128, 1)\n",
    "\n",
    "    def forward(self, x):\n",
    "      x = self.conv1(x)\n",
    "      x = torch.tanh(x)\n",
    "      x = self.conv2(x)\n",
    "      x = torch.tanh(x)\n",
    "\n",
    "      x = F.max_pool1d(x, 2)\n",
    "      x = self.dropout1(x)\n",
    "      x = torch.flatten(x, 1)\n",
    "    \n",
    "      x = self.fc1(x)\n",
    "      x = F.relu(x)\n",
    "#       x = self.dropout2(x)\n",
    "#       x = self.fc2(x)\n",
    "\n",
    "#       output = F.log_softmax(x, dim=1)\n",
    "      return x\n",
    "\n",
    "net = Net().to(device)\n",
    "print(net)\n",
    "\n",
    "\n",
    "summary(net, (1,100))"
   ]
  },
  {
   "cell_type": "code",
   "execution_count": 114,
   "id": "patent-cycling",
   "metadata": {},
   "outputs": [
    {
     "name": "stdout",
     "output_type": "stream",
     "text": [
      "tensor([[0.]], grad_fn=<LogSoftmaxBackward>)\n"
     ]
    }
   ],
   "source": [
    "random_data = torch.rand((1, 1, 100))\n",
    "\n",
    "my_nn = Net()\n",
    "result = my_nn(random_data)\n",
    "print (result)"
   ]
  },
  {
   "cell_type": "code",
   "execution_count": 163,
   "id": "grand-watch",
   "metadata": {},
   "outputs": [],
   "source": [
    "import torch.optim as optim\n",
    "\n",
    "criterion = nn.MSELoss()\n",
    "optimizer = optim.SGD(net.parameters(), lr=0.001, momentum=0.9)"
   ]
  },
  {
   "cell_type": "code",
   "execution_count": 275,
   "id": "english-virginia",
   "metadata": {
    "scrolled": true
   },
   "outputs": [
    {
     "name": "stdout",
     "output_type": "stream",
     "text": [
      "[1,   100] loss: 0.00100205\n",
      "[1,   200] loss: 0.00104777\n",
      "[1,   300] loss: 0.00103797\n",
      "[1,   400] loss: 0.00102303\n",
      "[1,   500] loss: 0.00100627\n",
      "[1,   600] loss: 0.00108262\n",
      "[1,   700] loss: 0.00108574\n",
      "[1,   800] loss: 0.00104045\n",
      "[2,   100] loss: 0.00101820\n",
      "[2,   200] loss: 0.00102688\n",
      "[2,   300] loss: 0.00102658\n",
      "[2,   400] loss: 0.00104360\n",
      "[2,   500] loss: 0.00106263\n",
      "[2,   600] loss: 0.00106043\n",
      "[2,   700] loss: 0.00107107\n",
      "[2,   800] loss: 0.00101837\n",
      "Finished Training\n"
     ]
    }
   ],
   "source": [
    "for epoch in range(2):  # loop over the dataset multiple times\n",
    "\n",
    "    running_loss = 0.0\n",
    "    for i, data in enumerate(train_loader, 0):\n",
    "        # get the inputs; data is a list of [inputs, labels]\n",
    "        inputs, labels = data[0].to(device), data[1].to(device)\n",
    "\n",
    "        # zero the parameter gradients\n",
    "        optimizer.zero_grad()\n",
    "\n",
    "        # forward + backward + optimize\n",
    "        outputs = net(inputs)\n",
    "        loss = criterion(outputs, labels)\n",
    "        loss.backward()\n",
    "        optimizer.step()\n",
    "\n",
    "        # print statistics\n",
    "        running_loss += loss.item()\n",
    "        if i % 100 == 99:    # print every 2000 mini-batches\n",
    "            print('[%d, %5d] loss: %.8f' %\n",
    "                  (epoch + 1, i + 1, running_loss / 2000))\n",
    "            running_loss = 0.0\n",
    "\n",
    "print('Finished Training')"
   ]
  },
  {
   "cell_type": "code",
   "execution_count": 277,
   "id": "curious-retention",
   "metadata": {
    "scrolled": false
   },
   "outputs": [
    {
     "name": "stdout",
     "output_type": "stream",
     "text": [
      "tensor([[  0.0000],\n",
      "        [  0.0000],\n",
      "        [  0.0000],\n",
      "        [  8.4299],\n",
      "        [  0.0000],\n",
      "        [  0.0000],\n",
      "        [  0.0000],\n",
      "        [  0.0000],\n",
      "        [  0.0000],\n",
      "        [  0.0000],\n",
      "        [  7.6720],\n",
      "        [  0.0000],\n",
      "        [  0.0000],\n",
      "        [  0.0000],\n",
      "        [  0.0000],\n",
      "        [  0.0000],\n",
      "        [  0.1230],\n",
      "        [  0.7309],\n",
      "        [  0.0000],\n",
      "        [  0.0000],\n",
      "        [  8.5800],\n",
      "        [  0.0000],\n",
      "        [  8.7869],\n",
      "        [  0.0000],\n",
      "        [  0.0000],\n",
      "        [ 22.3738],\n",
      "        [  0.0000],\n",
      "        [  1.5457],\n",
      "        [  0.0000],\n",
      "        [  0.0000],\n",
      "        [  8.1389],\n",
      "        [ 11.2310],\n",
      "        [  0.0000],\n",
      "        [  0.0000],\n",
      "        [  0.0000],\n",
      "        [  0.0000],\n",
      "        [  0.0000],\n",
      "        [  0.0000],\n",
      "        [  0.0000],\n",
      "        [  0.0000],\n",
      "        [  0.0000],\n",
      "        [  0.0000],\n",
      "        [  0.0000],\n",
      "        [  1.5538],\n",
      "        [  1.6568],\n",
      "        [  0.0000],\n",
      "        [  0.0000],\n",
      "        [  0.0000],\n",
      "        [  0.0000],\n",
      "        [  0.0000],\n",
      "        [  0.0000],\n",
      "        [  0.0000],\n",
      "        [  1.5951],\n",
      "        [  0.0000],\n",
      "        [  0.0000],\n",
      "        [  0.0000],\n",
      "        [  0.0000],\n",
      "        [  0.0000],\n",
      "        [  0.0000],\n",
      "        [  0.0000],\n",
      "        [  0.0000],\n",
      "        [  0.0000],\n",
      "        [  0.0000],\n",
      "        [  0.0000],\n",
      "        [  0.0000],\n",
      "        [  2.9381],\n",
      "        [  0.0000],\n",
      "        [  0.0000],\n",
      "        [  0.0000],\n",
      "        [  3.0951],\n",
      "        [  0.0000],\n",
      "        [  3.9785],\n",
      "        [  8.7478],\n",
      "        [  0.0000],\n",
      "        [  0.0000],\n",
      "        [  0.0000],\n",
      "        [  0.0000],\n",
      "        [  0.0000],\n",
      "        [ 15.5957],\n",
      "        [  0.0000],\n",
      "        [  0.0000],\n",
      "        [  0.0000],\n",
      "        [  0.0000],\n",
      "        [  0.0000],\n",
      "        [  0.0000],\n",
      "        [  0.0000],\n",
      "        [106.3564],\n",
      "        [  0.3857],\n",
      "        [ 12.4367],\n",
      "        [  0.0000],\n",
      "        [  0.0000],\n",
      "        [  0.0000],\n",
      "        [ 16.3090],\n",
      "        [  0.0000],\n",
      "        [ 13.2614],\n",
      "        [  0.0000],\n",
      "        [  0.0000],\n",
      "        [  0.7076],\n",
      "        [  0.0000],\n",
      "        [  0.7867]], device='cuda:0')\n",
      "Accuracy of the network on the test set: 77 %\n",
      "77\n"
     ]
    },
    {
     "data": {
      "text/plain": [
       "100"
      ]
     },
     "execution_count": 277,
     "metadata": {},
     "output_type": "execute_result"
    }
   ],
   "source": [
    "correct = 0\n",
    "total = 0\n",
    "with torch.no_grad():\n",
    "    for data in test_loader:\n",
    "        inputs, labels = data[0].to(device), data[1].to(device)\n",
    "        outputs = net(inputs)\n",
    "        difference = abs(outputs/labels)\n",
    "        total += labels.size(0)\n",
    "        correct += (torch.lt(difference, 0.5)).sum().item()\n",
    "        print(difference)\n",
    "        break\n",
    "\n",
    "print('Accuracy of the network on the test set: %d %%' % (\n",
    "    100 * correct / total))\n",
    "print(correct)\n",
    "total"
   ]
  },
  {
   "cell_type": "code",
   "execution_count": 13,
   "id": "sudden-alert",
   "metadata": {},
   "outputs": [
    {
     "name": "stdout",
     "output_type": "stream",
     "text": [
      "Files already downloaded and verified\n",
      "Files already downloaded and verified\n"
     ]
    }
   ],
   "source": [
    "import torchvision.transforms as transforms\n",
    "\n",
    "transform = transforms.Compose(\n",
    "    [transforms.ToTensor(),\n",
    "     transforms.Normalize((0.5, 0.5, 0.5), (0.5, 0.5, 0.5))])\n",
    "\n",
    "trainset = torchvision.datasets.CIFAR10(root='./data', train=True, download=True, transform=transform)\n",
    "trainloader = torch.utils.data.DataLoader(trainset, batch_size=4, shuffle=True, num_workers=2)\n",
    "\n",
    "testset = torchvision.datasets.CIFAR10(root='./data', train=False, download=True, transform=transform)\n",
    "testloader = torch.utils.data.DataLoader(testset, batch_size=4, shuffle=False, num_workers=2)\n",
    "\n",
    "classes = ('plane', 'car', 'bird', 'cat', 'deer', 'dog', 'frog', 'horse', 'ship', 'truck')"
   ]
  },
  {
   "cell_type": "code",
   "execution_count": 29,
   "id": "declared-failure",
   "metadata": {},
   "outputs": [
    {
     "data": {
      "image/png": "[encoded data removed]",
      "text/plain": [
       "<Figure size 432x288 with 1 Axes>"
      ]
     },
     "metadata": {
      "needs_background": "light"
     },
     "output_type": "display_data"
    },
    {
     "name": "stdout",
     "output_type": "stream",
     "text": [
      "truck horse  ship plane\n"
     ]
    }
   ],
   "source": [
    "import matplotlib.pyplot as plt\n",
    "import torchvision\n",
    "\n",
    "# functions to show an image\n",
    "\n",
    "\n",
    "def imshow(img):\n",
    "    img = img / 2 + 0.5     # unnormalize\n",
    "    img = img.cpu()\n",
    "    npimg = img.numpy()\n",
    "    plt.imshow(np.transpose(npimg, (1, 2, 0)))\n",
    "    plt.show()\n",
    "\n",
    "\n",
    "# get some random training images\n",
    "dataiter = iter(trainloader)\n",
    "images, labels = dataiter.next()\n",
    "\n",
    "# show images\n",
    "imshow(torchvision.utils.make_grid(images))\n",
    "# print labels\n",
    "print(' '.join('%5s' % classes[labels[j]] for j in range(4)))"
   ]
  },
  {
   "cell_type": "code",
   "execution_count": 15,
   "id": "complicated-vietnamese",
   "metadata": {},
   "outputs": [
    {
     "name": "stdout",
     "output_type": "stream",
     "text": [
      "Net(\n",
      "  (conv1): Conv2d(3, 32, kernel_size=(3, 3), stride=(1, 1))\n",
      "  (conv2): Conv2d(32, 64, kernel_size=(3, 3), stride=(1, 1))\n",
      "  (dropout1): Dropout2d(p=0.25, inplace=False)\n",
      "  (dropout2): Dropout2d(p=0.5, inplace=False)\n",
      "  (fc1): Linear(in_features=12544, out_features=128, bias=True)\n",
      "  (fc2): Linear(in_features=128, out_features=10, bias=True)\n",
      ")\n"
     ]
    }
   ],
   "source": [
    "class Net(nn.Module):\n",
    "    def __init__(self):\n",
    "      super(Net, self).__init__()\n",
    "      self.conv1 = nn.Conv2d(3, 32, 3, 1)\n",
    "      self.conv2 = nn.Conv2d(32, 64, 3, 1)\n",
    "      self.dropout1 = nn.Dropout2d(0.25)\n",
    "      self.dropout2 = nn.Dropout2d(0.5)\n",
    "      self.fc1 = nn.Linear(12544, 128)\n",
    "      self.fc2 = nn.Linear(128, 10)\n",
    "\n",
    "    # x represents our data\n",
    "    def forward(self, x):\n",
    "      x = self.conv1(x)\n",
    "      x = F.relu(x)\n",
    "\n",
    "      x = self.conv2(x)\n",
    "      x = F.relu(x)\n",
    "\n",
    "      x = F.max_pool2d(x, 2)\n",
    "      x = self.dropout1(x)\n",
    "      x = torch.flatten(x, 1)\n",
    "      x = self.fc1(x)\n",
    "      x = F.relu(x)\n",
    "      x = self.dropout2(x)\n",
    "      x = self.fc2(x)\n",
    "\n",
    "      output = F.log_softmax(x, dim=1)\n",
    "      return output\n",
    "\n",
    "net = Net().to(device)\n",
    "print(net)\n",
    "\n",
    "\n",
    "# summary(net, (3,32,32))"
   ]
  },
  {
   "cell_type": "code",
   "execution_count": 16,
   "id": "african-majority",
   "metadata": {},
   "outputs": [
    {
     "name": "stdout",
     "output_type": "stream",
     "text": [
      "tensor([[-2.3049, -2.2811, -2.3930, -2.2530, -2.3758, -2.4194, -2.2506, -2.2333,\n",
      "         -2.1800, -2.3628]], grad_fn=<LogSoftmaxBackward>)\n"
     ]
    }
   ],
   "source": [
    "# Equates to one random 28x28 image\n",
    "random_data = torch.rand((1, 3, 32, 32))\n",
    "\n",
    "my_nn = Net()\n",
    "result = my_nn(random_data)\n",
    "print (result)"
   ]
  },
  {
   "cell_type": "code",
   "execution_count": 17,
   "id": "about-aquatic",
   "metadata": {},
   "outputs": [],
   "source": [
    "import torch.optim as optim\n",
    "\n",
    "criterion = nn.CrossEntropyLoss()\n",
    "optimizer = optim.SGD(net.parameters(), lr=0.001, momentum=0.9)"
   ]
  },
  {
   "cell_type": "code",
   "execution_count": 18,
   "id": "adjusted-phoenix",
   "metadata": {},
   "outputs": [
    {
     "name": "stdout",
     "output_type": "stream",
     "text": [
      "[1,  2000] loss: 2.031\n",
      "[1,  4000] loss: 1.765\n",
      "[1,  6000] loss: 1.646\n",
      "[1,  8000] loss: 1.538\n",
      "[1, 10000] loss: 1.508\n",
      "[1, 12000] loss: 1.464\n",
      "[2,  2000] loss: 1.332\n",
      "[2,  4000] loss: 1.323\n",
      "[2,  6000] loss: 1.299\n",
      "[2,  8000] loss: 1.267\n",
      "[2, 10000] loss: 1.259\n",
      "[2, 12000] loss: 1.235\n",
      "Finished Training\n"
     ]
    }
   ],
   "source": [
    "for epoch in range(2):  # loop over the dataset multiple times\n",
    "\n",
    "    running_loss = 0.0\n",
    "    for i, data in enumerate(trainloader, 0):\n",
    "        # get the inputs; data is a list of [inputs, labels]\n",
    "        inputs, labels = data\n",
    "        inputs = inputs.to(device)\n",
    "        labels = labels.to(device)\n",
    "\n",
    "        # zero the parameter gradients\n",
    "        optimizer.zero_grad()\n",
    "\n",
    "        # forward + backward + optimize\n",
    "        outputs = net(inputs)\n",
    "        loss = criterion(outputs, labels)\n",
    "        loss.backward()\n",
    "        optimizer.step()\n",
    "\n",
    "        # print statistics\n",
    "        running_loss += loss.item()\n",
    "        if i % 2000 == 1999:    # print every 2000 mini-batches\n",
    "            print('[%d, %5d] loss: %.3f' %\n",
    "                  (epoch + 1, i + 1, running_loss / 2000))\n",
    "            running_loss = 0.0\n",
    "\n",
    "print('Finished Training')"
   ]
  },
  {
   "cell_type": "code",
   "execution_count": 119,
   "id": "double-debut",
   "metadata": {},
   "outputs": [
    {
     "data": {
      "text/plain": [
       "device(type='cuda', index=0)"
      ]
     },
     "execution_count": 119,
     "metadata": {},
     "output_type": "execute_result"
    }
   ],
   "source": [
    "type(a)\n",
    "torch.cuda.is_available()\n",
    "\n",
    "type(inputs)"
   ]
  },
  {
   "cell_type": "code",
   "execution_count": 30,
   "id": "placed-conflict",
   "metadata": {},
   "outputs": [
    {
     "data": {
      "image/png": "[encoded data removed]",
      "text/plain": [
       "<Figure size 432x288 with 1 Axes>"
      ]
     },
     "metadata": {
      "needs_background": "light"
     },
     "output_type": "display_data"
    },
    {
     "name": "stdout",
     "output_type": "stream",
     "text": [
      "GroundTruth:    cat  ship  ship plane\n"
     ]
    }
   ],
   "source": [
    "dataiter = iter(testloader)\n",
    "images, labels = dataiter.next()\n",
    "images = images.to(device)\n",
    "labels = labels.to(device)\n",
    "\n",
    "# print images\n",
    "imshow(torchvision.utils.make_grid(images))\n",
    "print('GroundTruth: ', ' '.join('%5s' % classes[labels[j]] for j in range(4)))"
   ]
  },
  {
   "cell_type": "code",
   "execution_count": 32,
   "id": "varying-fetish",
   "metadata": {},
   "outputs": [],
   "source": [
    "outputs = net(images)"
   ]
  },
  {
   "cell_type": "code",
   "execution_count": 33,
   "id": "guilty-cleaner",
   "metadata": {},
   "outputs": [
    {
     "name": "stdout",
     "output_type": "stream",
     "text": [
      "Predicted:    cat   car  ship plane\n"
     ]
    }
   ],
   "source": [
    "_, predicted = torch.max(outputs, 1)\n",
    "\n",
    "print('Predicted: ', ' '.join('%5s' % classes[predicted[j]]\n",
    "                              for j in range(4)))"
   ]
  },
  {
   "cell_type": "code",
   "execution_count": 26,
   "id": "genuine-burton",
   "metadata": {},
   "outputs": [
    {
     "name": "stdout",
     "output_type": "stream",
     "text": [
      "Accuracy of the network on the 10000 test images: 57 %\n"
     ]
    }
   ],
   "source": [
    "correct = 0\n",
    "total = 0\n",
    "with torch.no_grad():\n",
    "    for data in testloader:\n",
    "        images, labels = data\n",
    "        images = images.to(device)\n",
    "        labels = labels.to(device)\n",
    "        outputs = net(images)\n",
    "        _, predicted = torch.max(outputs.data, 1)\n",
    "        total += labels.size(0)\n",
    "        correct += (predicted == labels).sum().item()\n",
    "\n",
    "print('Accuracy of the network on the 10000 test images: %d %%' % (\n",
    "    100 * correct / total))"
   ]
  },
  {
   "cell_type": "code",
   "execution_count": 48,
   "id": "palestinian-gnome",
   "metadata": {},
   "outputs": [
    {
     "data": {
      "text/plain": [
       "tensor(1)"
      ]
     },
     "execution_count": 48,
     "metadata": {},
     "output_type": "execute_result"
    }
   ],
   "source": [
    "a = torch.tensor([0,1,0])\n",
    "b = torch.tensor([0,0,1])\n",
    "\n",
    "(a == b).sum()"
   ]
  },
  {
   "cell_type": "code",
   "execution_count": 40,
   "id": "documented-candy",
   "metadata": {
    "scrolled": false
   },
   "outputs": [
    {
     "name": "stdout",
     "output_type": "stream",
     "text": [
      "tensor([[[[ 0.2392,  0.2471,  0.2941,  ...,  0.0745, -0.0118, -0.0902],\n",
      "          [ 0.1922,  0.1843,  0.2471,  ...,  0.0667, -0.0196, -0.0667],\n",
      "          [ 0.1843,  0.1843,  0.2392,  ...,  0.0902,  0.0196, -0.0588],\n",
      "          ...,\n",
      "          [-0.4667, -0.6706, -0.7569,  ..., -0.7020, -0.8980, -0.6863],\n",
      "          [-0.5216, -0.6157, -0.7255,  ..., -0.7961, -0.7725, -0.8431],\n",
      "          [-0.5765, -0.5608, -0.6471,  ..., -0.8118, -0.7333, -0.8353]],\n",
      "\n",
      "         [[-0.1216, -0.1294, -0.0902,  ..., -0.2549, -0.2863, -0.3333],\n",
      "          [-0.1216, -0.1373, -0.1059,  ..., -0.2549, -0.2863, -0.3098],\n",
      "          [-0.1373, -0.1451, -0.1294,  ..., -0.2314, -0.2549, -0.3020],\n",
      "          ...,\n",
      "          [-0.0275, -0.2157, -0.3098,  ..., -0.2392, -0.4980, -0.3333],\n",
      "          [-0.0902, -0.2000, -0.3333,  ..., -0.3569, -0.3569, -0.4980],\n",
      "          [-0.1608, -0.1765, -0.3020,  ..., -0.3961, -0.3412, -0.4745]],\n",
      "\n",
      "         [[-0.6157, -0.6314, -0.6000,  ..., -0.7176, -0.7176, -0.7412],\n",
      "          [-0.6000, -0.6863, -0.6471,  ..., -0.7569, -0.7490, -0.7333],\n",
      "          [-0.6314, -0.7412, -0.7176,  ..., -0.7333, -0.7333, -0.7412],\n",
      "          ...,\n",
      "          [ 0.3882,  0.1608,  0.0745,  ...,  0.1451, -0.1529, -0.0039],\n",
      "          [ 0.3176,  0.1608,  0.0353,  ...,  0.0196, -0.0118, -0.1608],\n",
      "          [ 0.2549,  0.1686,  0.0353,  ..., -0.0275,  0.0118, -0.1373]]],\n",
      "\n",
      "\n",
      "        [[[ 0.8431,  0.8118,  0.8196,  ...,  0.8275,  0.8275,  0.8196],\n",
      "          [ 0.8667,  0.8431,  0.8431,  ...,  0.8510,  0.8510,  0.8431],\n",
      "          [ 0.8588,  0.8353,  0.8353,  ...,  0.8431,  0.8431,  0.8353],\n",
      "          ...,\n",
      "          [-0.3176, -0.6627, -0.8510,  ...,  0.3255,  0.4275,  0.4745],\n",
      "          [-0.3569, -0.6392, -0.7176,  ...,  0.3647,  0.4510,  0.4667],\n",
      "          [-0.3333, -0.5137, -0.5451,  ...,  0.3176,  0.4118,  0.4588]],\n",
      "\n",
      "         [[ 0.8431,  0.8118,  0.8196,  ...,  0.8275,  0.8275,  0.8196],\n",
      "          [ 0.8667,  0.8431,  0.8431,  ...,  0.8510,  0.8510,  0.8431],\n",
      "          [ 0.8588,  0.8353,  0.8353,  ...,  0.8431,  0.8431,  0.8353],\n",
      "          ...,\n",
      "          [-0.2235, -0.6000, -0.8196,  ...,  0.4431,  0.5451,  0.5843],\n",
      "          [-0.2471, -0.5529, -0.6549,  ...,  0.4824,  0.5686,  0.5843],\n",
      "          [-0.2078, -0.4118, -0.4745,  ...,  0.4353,  0.5294,  0.5686]],\n",
      "\n",
      "         [[ 0.8431,  0.8118,  0.8196,  ...,  0.8275,  0.8275,  0.8196],\n",
      "          [ 0.8667,  0.8431,  0.8431,  ...,  0.8510,  0.8510,  0.8431],\n",
      "          [ 0.8588,  0.8353,  0.8353,  ...,  0.8431,  0.8431,  0.8353],\n",
      "          ...,\n",
      "          [-0.3020, -0.7098, -0.9137,  ...,  0.4039,  0.5137,  0.5765],\n",
      "          [-0.3569, -0.7176, -0.8275,  ...,  0.4353,  0.5373,  0.5686],\n",
      "          [-0.3490, -0.6235, -0.7020,  ...,  0.3961,  0.4980,  0.5608]]],\n",
      "\n",
      "\n",
      "        [[[ 0.2392,  0.2392,  0.0902,  ...,  0.7882,  0.8588,  0.8667],\n",
      "          [ 0.3333,  0.3490,  0.1843,  ...,  0.8196,  0.9294,  0.9294],\n",
      "          [ 0.3647,  0.3804,  0.2314,  ...,  0.8039,  0.9608,  0.9216],\n",
      "          ...,\n",
      "          [-0.7569, -0.7647, -0.7961,  ..., -0.7098, -0.9294, -0.9686],\n",
      "          [-0.8196, -0.7882, -0.8039,  ..., -0.8510, -0.9686, -0.9608],\n",
      "          [-0.7804, -0.7647, -0.7490,  ..., -0.9608, -0.9686, -0.9451]],\n",
      "\n",
      "         [[ 0.4902,  0.4667,  0.3020,  ...,  0.8118,  0.8745,  0.8902],\n",
      "          [ 0.5686,  0.5608,  0.3804,  ...,  0.8196,  0.9294,  0.9373],\n",
      "          [ 0.5765,  0.5686,  0.4039,  ...,  0.7961,  0.9529,  0.9137],\n",
      "          ...,\n",
      "          [-0.6863, -0.6941, -0.7255,  ..., -0.6863, -0.8980, -0.9451],\n",
      "          [-0.7333, -0.7020, -0.7176,  ..., -0.8431, -0.9529, -0.9451],\n",
      "          [-0.6784, -0.6627, -0.6471,  ..., -0.9529, -0.9608, -0.9373]],\n",
      "\n",
      "         [[ 0.7412,  0.7098,  0.5216,  ...,  0.8353,  0.9059,  0.9294],\n",
      "          [ 0.7961,  0.7725,  0.5765,  ...,  0.8510,  0.9608,  0.9686],\n",
      "          [ 0.7647,  0.7412,  0.5608,  ...,  0.8196,  0.9686,  0.9373],\n",
      "          ...,\n",
      "          [-0.6471, -0.6549, -0.6863,  ..., -0.6392, -0.8902, -0.9608],\n",
      "          [-0.6941, -0.6627, -0.6784,  ..., -0.8118, -0.9765, -0.9765],\n",
      "          [-0.6314, -0.6078, -0.5922,  ..., -0.9373, -0.9765, -0.9451]]],\n",
      "\n",
      "\n",
      "        [[[ 0.2157,  0.3098,  0.3804,  ...,  0.5765,  0.5843,  0.5059],\n",
      "          [ 0.2000,  0.2784,  0.3412,  ...,  0.5843,  0.5922,  0.4824],\n",
      "          [ 0.2157,  0.2549,  0.3176,  ...,  0.6157,  0.6000,  0.4824],\n",
      "          ...,\n",
      "          [-0.3020, -0.5529, -0.5216,  ..., -0.3020, -0.5373, -0.4745],\n",
      "          [-0.3020, -0.5294, -0.5059,  ..., -0.5529, -0.5216, -0.4118],\n",
      "          [-0.2784, -0.5294, -0.5216,  ..., -0.5294, -0.4980, -0.4275]],\n",
      "\n",
      "         [[ 0.2235,  0.3804,  0.4039,  ...,  0.5373,  0.5843,  0.4353],\n",
      "          [ 0.2157,  0.4039,  0.4431,  ...,  0.6314,  0.6863,  0.4902],\n",
      "          [ 0.2078,  0.3961,  0.4510,  ...,  0.6314,  0.6863,  0.4980],\n",
      "          ...,\n",
      "          [-0.3804, -0.5843, -0.5216,  ..., -0.0667, -0.3804, -0.4196],\n",
      "          [-0.3569, -0.5451, -0.4824,  ..., -0.4824, -0.4980, -0.4588],\n",
      "          [-0.3882, -0.5922, -0.5451,  ..., -0.5059, -0.4902, -0.4667]],\n",
      "\n",
      "         [[ 0.1686,  0.4667,  0.5137,  ...,  0.6392,  0.6627,  0.3412],\n",
      "          [ 0.2314,  0.6000,  0.6863,  ...,  0.7412,  0.7804,  0.4353],\n",
      "          [ 0.2000,  0.5765,  0.6706,  ...,  0.6863,  0.7569,  0.4431],\n",
      "          ...,\n",
      "          [-0.5137, -0.5922, -0.5373,  ..., -0.2078, -0.5137, -0.6078],\n",
      "          [-0.5137, -0.5843, -0.5451,  ..., -0.5451, -0.5765, -0.6000],\n",
      "          [-0.4980, -0.6000, -0.6000,  ..., -0.6078, -0.5922, -0.6078]]]])\n",
      "tensor([3, 8, 8, 0])\n"
     ]
    },
    {
     "ename": "AttributeError",
     "evalue": "'list' object has no attribute 'shape'",
     "output_type": "error",
     "traceback": [
      "\u001b[1;31m---------------------------------------------------------------------------\u001b[0m",
      "\u001b[1;31mAttributeError\u001b[0m                            Traceback (most recent call last)",
      "\u001b[1;32m<ipython-input-40-12cefebbffa1>\u001b[0m in \u001b[0;36m<module>\u001b[1;34m\u001b[0m\n\u001b[0;32m      3\u001b[0m     \u001b[0mprint\u001b[0m\u001b[1;33m(\u001b[0m\u001b[0mdata\u001b[0m\u001b[1;33m[\u001b[0m\u001b[1;36m0\u001b[0m\u001b[1;33m]\u001b[0m\u001b[1;33m)\u001b[0m\u001b[1;33m\u001b[0m\u001b[1;33m\u001b[0m\u001b[0m\n\u001b[0;32m      4\u001b[0m     \u001b[0mprint\u001b[0m\u001b[1;33m(\u001b[0m\u001b[0mdata\u001b[0m\u001b[1;33m[\u001b[0m\u001b[1;36m1\u001b[0m\u001b[1;33m]\u001b[0m\u001b[1;33m)\u001b[0m\u001b[1;33m\u001b[0m\u001b[1;33m\u001b[0m\u001b[0m\n\u001b[1;32m----> 5\u001b[1;33m     \u001b[0mprint\u001b[0m\u001b[1;33m(\u001b[0m\u001b[0mdata\u001b[0m\u001b[1;33m.\u001b[0m\u001b[0mshape\u001b[0m\u001b[1;33m)\u001b[0m\u001b[1;33m\u001b[0m\u001b[1;33m\u001b[0m\u001b[0m\n\u001b[0m\u001b[0;32m      6\u001b[0m     \u001b[1;32mbreak\u001b[0m\u001b[1;33m\u001b[0m\u001b[1;33m\u001b[0m\u001b[0m\n",
      "\u001b[1;31mAttributeError\u001b[0m: 'list' object has no attribute 'shape'"
     ]
    }
   ],
   "source": [
    "type(testloader)\n",
    "for data in testloader:\n",
    "    print(data[0])\n",
    "    print(data[1])\n",
    "    print(data.shape)\n",
    "    break"
   ]
  },
  {
   "cell_type": "code",
   "execution_count": 28,
   "id": "metallic-trader",
   "metadata": {},
   "outputs": [
    {
     "name": "stdout",
     "output_type": "stream",
     "text": [
      "Accuracy of plane : 60 %\n",
      "Accuracy of   car : 66 %\n",
      "Accuracy of  bird : 31 %\n",
      "Accuracy of   cat : 47 %\n",
      "Accuracy of  deer : 47 %\n",
      "Accuracy of   dog : 37 %\n",
      "Accuracy of  frog : 65 %\n",
      "Accuracy of horse : 75 %\n",
      "Accuracy of  ship : 71 %\n",
      "Accuracy of truck : 66 %\n"
     ]
    }
   ],
   "source": [
    "class_correct = list(0. for i in range(10))\n",
    "class_total = list(0. for i in range(10))\n",
    "with torch.no_grad():\n",
    "    for data in testloader:\n",
    "        images, labels = data\n",
    "        images = images.to(device)\n",
    "        labels = labels.to(device)\n",
    "        outputs = net(images)\n",
    "        _, predicted = torch.max(outputs, 1)\n",
    "        c = (predicted == labels).squeeze()\n",
    "        for i in range(4):\n",
    "            label = labels[i]\n",
    "            class_correct[label] += c[i].item()\n",
    "            class_total[label] += 1\n",
    "\n",
    "\n",
    "for i in range(10):\n",
    "    print('Accuracy of %5s : %2d %%' % (\n",
    "        classes[i], 100 * class_correct[i] / class_total[i]))"
   ]
  }
 ],
 "metadata": {
  "kernelspec": {
   "display_name": "Python 3",
   "language": "python",
   "name": "python3"
  },
  "language_info": {
   "codemirror_mode": {
    "name": "ipython",
    "version": 3
   },
   "file_extension": ".py",
   "mimetype": "text/x-python",
   "name": "python",
   "nbconvert_exporter": "python",
   "pygments_lexer": "ipython3",
   "version": "3.8.6"
  }
 },
 "nbformat": 4,
 "nbformat_minor": 5
}
