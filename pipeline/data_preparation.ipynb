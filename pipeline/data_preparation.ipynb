{
 "metadata": {
  "language_info": {
   "codemirror_mode": {
    "name": "ipython",
    "version": 3
   },
   "file_extension": ".py",
   "mimetype": "text/x-python",
   "name": "python",
   "nbconvert_exporter": "python",
   "pygments_lexer": "ipython3",
   "version": "3.7.4-final"
  },
  "orig_nbformat": 2,
  "kernelspec": {
   "name": "python3",
   "display_name": "Python 3.7.4 64-bit (conda)",
   "metadata": {
    "interpreter": {
     "hash": "42518a910d49e1bcbec57022f51c626a2b80126feae2f4ee4e7dd882ffabe5bf"
    }
   }
  }
 },
 "nbformat": 4,
 "nbformat_minor": 2,
 "cells": [
  {
   "cell_type": "code",
   "execution_count": 2,
   "metadata": {},
   "outputs": [],
   "source": [
    "# Imports\n",
    "import os\n",
    "import pickle\n",
    "import pandas as pd\n",
    "import numpy as np\n",
    "import matplotlib.pyplot as plt"
   ]
  },
  {
   "cell_type": "code",
   "execution_count": 5,
   "metadata": {},
   "outputs": [],
   "source": [
    "# Set WESAD directory\n",
    "directory = \"C:/Users/Boris/Google Drive/Studie/Master/2020-2021-2A/Deep Learning/a2/data/WESAD/WESAD/\"\n",
    "\n",
    "# Create a list that contains a path for each pickle file that you want to use\n",
    "pickle_paths = []\n",
    "for root,dirs,files in os.walk(directory):\n",
    "    for f in files:\n",
    "        # Use endswith(\".pkl\") to get all files\n",
    "        if f.endswith(\"S2.pkl\"):\n",
    "            pickle_paths.append(os.path.join(root, f))"
   ]
  },
  {
   "cell_type": "code",
   "execution_count": 7,
   "metadata": {},
   "outputs": [],
   "source": [
    "# Load each pickle file\n",
    "all_raw_data = []\n",
    "for pickle in pickle_paths:\n",
    "    all_raw_data.append(pd.read_pickle(pickle))"
   ]
  },
  {
   "cell_type": "code",
   "execution_count": 8,
   "metadata": {
    "tags": []
   },
   "outputs": [],
   "source": [
    "# Create a list for every modality (using lists here b/c it's a lot faster than dataframes)\n",
    "subject_ID_list = []\n",
    "ACC_list = []\n",
    "ECG_list = []\n",
    "EMG_list = []\n",
    "EDA_list = []\n",
    "Temp_list = []\n",
    "Resp_list = []\n",
    "\n",
    "for subject_data in all_raw_data:\n",
    "\n",
    "    # Get this subject's ID\n",
    "    subject_ID = subject_data[\"subject\"]\n",
    "\n",
    "    # Extract the chest data\n",
    "    chest_data = subject_data[\"signal\"][\"chest\"]\n",
    "\n",
    "    # Set the total signal length for this subject\n",
    "    signal_length = len(chest_data[\"ECG\"])\n",
    "\n",
    "    # Extract the signal values of each modality to its list\n",
    "    for i in range(signal_length):\n",
    "        subject_ID_list.append(subject_ID)\n",
    "        ACC_list.append(chest_data[\"ACC\"][i])\n",
    "        ECG_list.append(chest_data[\"ECG\"][i][0])\n",
    "        EMG_list.append(chest_data[\"EMG\"][i][0])\n",
    "        EDA_list.append(chest_data[\"EDA\"][i][0])\n",
    "        Temp_list.append(chest_data[\"Temp\"][i][0])\n",
    "        Resp_list.append(chest_data[\"Resp\"][i][0])"
   ]
  },
  {
   "cell_type": "code",
   "execution_count": 9,
   "metadata": {},
   "outputs": [
    {
     "output_type": "execute_result",
     "data": {
      "text/plain": [
       "        Subject_ID                                          Chest_ACC  \\\n",
       "4255295         S2  [0.875, -0.12339997291564941, -0.2973999977111...   \n",
       "4255296         S2  [0.875, -0.12620002031326294, -0.298799991607666]   \n",
       "4255297         S2  [0.8717999458312988, -0.12379997968673706, -0....   \n",
       "4255298         S2  [0.8730000257492065, -0.12339997291564941, -0....   \n",
       "4255299         S2  [0.8702000379562378, -0.12199997901916504, -0....   \n",
       "\n",
       "         Chest_ECG  Chest_EMG  Chest_EDA  Chest_Temp  Chest_Resp  \n",
       "4255295  -0.013138   0.020370   0.400162   31.457733   -1.063538  \n",
       "4255296  -0.010345   0.019592   0.355911   31.476898   -1.106262  \n",
       "4255297  -0.005447  -0.017166   0.360489   31.459229   -1.103210  \n",
       "4255298   0.000137  -0.028976   0.365829   31.484283   -1.086426  \n",
       "4255299   0.004074  -0.023575   0.365448   31.456268   -1.097107  "
      ],
      "text/html": "<div>\n<style scoped>\n    .dataframe tbody tr th:only-of-type {\n        vertical-align: middle;\n    }\n\n    .dataframe tbody tr th {\n        vertical-align: top;\n    }\n\n    .dataframe thead th {\n        text-align: right;\n    }\n</style>\n<table border=\"1\" class=\"dataframe\">\n  <thead>\n    <tr style=\"text-align: right;\">\n      <th></th>\n      <th>Subject_ID</th>\n      <th>Chest_ACC</th>\n      <th>Chest_ECG</th>\n      <th>Chest_EMG</th>\n      <th>Chest_EDA</th>\n      <th>Chest_Temp</th>\n      <th>Chest_Resp</th>\n    </tr>\n  </thead>\n  <tbody>\n    <tr>\n      <td>4255295</td>\n      <td>S2</td>\n      <td>[0.875, -0.12339997291564941, -0.2973999977111...</td>\n      <td>-0.013138</td>\n      <td>0.020370</td>\n      <td>0.400162</td>\n      <td>31.457733</td>\n      <td>-1.063538</td>\n    </tr>\n    <tr>\n      <td>4255296</td>\n      <td>S2</td>\n      <td>[0.875, -0.12620002031326294, -0.298799991607666]</td>\n      <td>-0.010345</td>\n      <td>0.019592</td>\n      <td>0.355911</td>\n      <td>31.476898</td>\n      <td>-1.106262</td>\n    </tr>\n    <tr>\n      <td>4255297</td>\n      <td>S2</td>\n      <td>[0.8717999458312988, -0.12379997968673706, -0....</td>\n      <td>-0.005447</td>\n      <td>-0.017166</td>\n      <td>0.360489</td>\n      <td>31.459229</td>\n      <td>-1.103210</td>\n    </tr>\n    <tr>\n      <td>4255298</td>\n      <td>S2</td>\n      <td>[0.8730000257492065, -0.12339997291564941, -0....</td>\n      <td>0.000137</td>\n      <td>-0.028976</td>\n      <td>0.365829</td>\n      <td>31.484283</td>\n      <td>-1.086426</td>\n    </tr>\n    <tr>\n      <td>4255299</td>\n      <td>S2</td>\n      <td>[0.8702000379562378, -0.12199997901916504, -0....</td>\n      <td>0.004074</td>\n      <td>-0.023575</td>\n      <td>0.365448</td>\n      <td>31.456268</td>\n      <td>-1.097107</td>\n    </tr>\n  </tbody>\n</table>\n</div>"
     },
     "metadata": {},
     "execution_count": 9
    }
   ],
   "source": [
    "# Create a dataframe using the lists\n",
    "result = pd.DataFrame(\n",
    "    {\"Subject_ID\" : subject_ID_list,\n",
    "     \"Chest_ACC\" : ACC_list,\n",
    "     \"Chest_ECG\" : ECG_list,\n",
    "     \"Chest_EMG\" : EMG_list,\n",
    "     \"Chest_EDA\" : EDA_list,\n",
    "     \"Chest_Temp\" : Temp_list,\n",
    "     \"Chest_Resp\" : Resp_list\n",
    "    })\n",
    "result.tail()"
   ]
  },
  {
   "cell_type": "code",
   "execution_count": 11,
   "metadata": {},
   "outputs": [],
   "source": [
    "# OPTIONAL: Select the first n rows\n",
    "result = result.head(100000)\n",
    "\n",
    "# Export the dataframe to csv\n",
    "result.to_csv(\"datasets/subject2_chest_1st100k.csv\", index=True)"
   ]
  }
 ]
}